{
 "cells": [
  {
   "cell_type": "code",
   "execution_count": null,
   "id": "ef7dcae2-1b32-4a7f-850e-86bdaf2f01c5",
   "metadata": {},
   "outputs": [],
   "source": []
  }
 ],
 "metadata": {
  "kernelspec": {
   "display_name": "",
   "name": ""
  },
  "language_info": {
   "name": ""
  }
 },
 "nbformat": 4,
 "nbformat_minor": 5
}
